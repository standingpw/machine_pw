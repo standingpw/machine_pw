{
 "cells": [
  {
   "cell_type": "code",
   "execution_count": 131,
   "metadata": {},
   "outputs": [],
   "source": [
    "#adaboost算法\n",
    "import math\n",
    "import numpy as np\n",
    "import pandas as pd\n",
    "x = [0,1,2,3,4,5,6,7,8,9]\n",
    "y = [1,1,1,-1,-1,-1,1,1,1,-1]\n",
    "w_1=[0.1,0.1,0.1,0.1,0.1,0.1,0.1,0.1,0.1,0.1]\n",
    "data ={'x':x,'y':y,'w_1':w_1}\n",
    "pd.DataFrame(data).T\n",
    "def func_threshes(x):\n",
    "    threshes = []\n",
    "    for i in range(len(x)):\n",
    "        threshes.append(x[i]-0.5)\n",
    "    return threshes\n",
    "threshes = func_threshes(x)"
   ]
  },
  {
   "cell_type": "code",
   "execution_count": 108,
   "metadata": {},
   "outputs": [],
   "source": [
    "#计算预测值\n",
    "def func_predict(x,y,threshe):\n",
    "    pred_y_ps = []\n",
    "    pred_y_ng = []\n",
    "    for i in range(len(x)):\n",
    "        if(x[i]<threshe):\n",
    "            pred_y_ps.append(1)\n",
    "            pred_y_ng.append(-1)\n",
    "        else:\n",
    "            pred_y_ps.append(-1)\n",
    "            pred_y_ng.append(+1)\n",
    "    return pred_y_ps,pred_y_ng\n",
    "# pred_y_ps,pred_y_ng=func_predict(x,y,2.5)\n",
    "# pred_y_ps,pred_y_ng"
   ]
  },
  {
   "cell_type": "code",
   "execution_count": 109,
   "metadata": {},
   "outputs": [],
   "source": [
    "#定义计算错误率的函数，注意在使用的时候，需要判别从左往右，还是从右向左\n",
    "def func_error(pred,y,w):\n",
    "    error = 0\n",
    "    error_num = 0\n",
    "    right_num = 0\n",
    "    w_e=[]\n",
    "    for i in range(len(y)):\n",
    "        if(pred[i]!=y[i]):\n",
    "            error_num+=1\n",
    "            w_e.append(w[i])\n",
    "        else:\n",
    "            right_num+=1\n",
    "    error = round(error_num/(error_num+right_num),4)\n",
    "    w_error = round(sum(w_e),4)#总误差\n",
    "    return error,w_error\n"
   ]
  },
  {
   "cell_type": "code",
   "execution_count": null,
   "metadata": {},
   "outputs": [],
   "source": []
  },
  {
   "cell_type": "code",
   "execution_count": 110,
   "metadata": {},
   "outputs": [],
   "source": [
    "#选定阈值中是的误差最小的作为分类的值\n",
    "def mini_thresh(w,x,y,threshes):\n",
    "    good_thresh = 0\n",
    "    eror_infor={}\n",
    "    for thresh in threshes:\n",
    "        pred_y_ps,pred_y_ng= func_predict(x,y,thresh)\n",
    "        #判断从左向右，还是从右向左\n",
    "        error_ps,w_error_ps=func_error(pred_y_ps,y,w)\n",
    "        error_ng,w_error_ng=func_error(pred_y_ng,y,w)\n",
    "        if w_error_ps>w_error_ng:\n",
    "            w_error = w_error_ng\n",
    "        else:\n",
    "            w_error = w_error_ps            \n",
    "        eror_infor[thresh]=round(w_error,4)  \n",
    "    eror_infor1= min(eror_infor.items(),key=lambda x: x[1] )\n",
    "    eror_index=eror_infor1[0]\n",
    "    eror_value=eror_infor1[1]    \n",
    "    return eror_infor,eror_index,eror_value\n",
    "# eror_infor,eror_index,eror_value= mini_thresh(w_1,x,y,threshes)\n",
    "# eror_index,eror_value"
   ]
  },
  {
   "cell_type": "code",
   "execution_count": 111,
   "metadata": {},
   "outputs": [
    {
     "data": {
      "text/plain": [
       "0.4236"
      ]
     },
     "execution_count": 111,
     "metadata": {},
     "output_type": "execute_result"
    }
   ],
   "source": [
    "#选定好阈值后，需要计算分类器所取得权重\n",
    "def func_alpha(w,x,y,threshes):\n",
    "    alpha = 0\n",
    "    #1调用函数选出需要的阈值\n",
    "    eror_infor,eror_index,eror_value = mini_thresh(w,x,y,threshes)\n",
    "    #2调用预测函数进行预测\n",
    "    pred_y_ps,pred_y_ng = func_predict(x,y,eror_index)\n",
    "    #3计算错误率\n",
    "    error_ps,w_error_ps=func_error(pred_y_ps,y,w)\n",
    "    error_ng,w_error_ng=func_error(pred_y_ng,y,w)\n",
    "    if w_error_ps>w_error_ng:\n",
    "        w_error = w_error_ng\n",
    "    else:\n",
    "        w_error = w_error_ps                   \n",
    "    #4计算分类器的权重\n",
    "    alpha_classification =round(0.5*math.log((1-w_error)/w_error),4)\n",
    "    return alpha_classification\n",
    "alpha_classification = func_alpha(w_1,x,y,threshes)\n",
    "alpha_classification"
   ]
  },
  {
   "cell_type": "code",
   "execution_count": null,
   "metadata": {},
   "outputs": [],
   "source": []
  },
  {
   "cell_type": "code",
   "execution_count": 112,
   "metadata": {},
   "outputs": [
    {
     "data": {
      "text/plain": [
       "[0.07143, 0.07143, 0.07143, 0.07143, 0.07143, 0.07143, 0.16666, 0.16666, 0.16666, 0.07143]"
      ]
     },
     "execution_count": 112,
     "metadata": {},
     "output_type": "execute_result"
    }
   ],
   "source": [
    "#更新数据训练的权值分布\n",
    "def func_weight(w,x,y,threshes):\n",
    "    #1计算出本轮的alpha的值\n",
    "    alpha = func_alpha(w,x,y,threshes)\n",
    "    #计算出本轮预测的值\n",
    "    #2.1调用函数选出需要的阈值\n",
    "    eror_infor,eror_index,eror_value = mini_thresh(w,x,y,threshes)\n",
    "    #2.2调用预测函数进行预测\n",
    "    pred_y_ps,pred_y_ng = func_predict(x,y,eror_index)\n",
    "    \n",
    "     #3计算错误率\n",
    "    error_ps,w_error_ps=func_error(pred_y_ps,y,w)\n",
    "    error_ng,w_error_ng=func_error(pred_y_ng,y,w)\n",
    "    if w_error_ps>w_error_ng:\n",
    "        w_error = w_error_ng\n",
    "        pred_y = pred_y_ng\n",
    "\n",
    "    else:\n",
    "        w_error = w_error_ps   \n",
    "        pred_y = pred_y_ps\n",
    "    \n",
    "    #2.3计算预测值与实际值与权重的乘积\n",
    "    z_mi=[]\n",
    "    for i in range(len(x)):\n",
    "        z_mi.append(w[i]*math.exp(-alpha*y[i]*pred_y[i]))\n",
    "    Z = sum(z_mi)\n",
    "    #3.计算下一轮权重的情况\n",
    "    w_mi=[]\n",
    "    for i in range(len(x)):\n",
    "        a = w[i]/Z*math.exp(-alpha*y[i]*pred_y[i])\n",
    "        w_mi.append(round(a,5))\n",
    "    W =w_mi\n",
    "    return W\n",
    "# w = func_weight(w_1,x,y,threshes)\n",
    "# w_1= w\n",
    "# w_1"
   ]
  },
  {
   "cell_type": "code",
   "execution_count": 143,
   "metadata": {},
   "outputs": [],
   "source": [
    "#定义adaboost函数，调用以上函数\n",
    "def func_adaboost(w,x,y,threshes):\n",
    "    alpha =[]\n",
    "    for i in range(3):\n",
    "        alpha.append(func_alpha(w,x,y,threshes))\n",
    "        w = func_weight(w,x,y,threshes)\n",
    "    return alpha,w\n"
   ]
  },
  {
   "cell_type": "code",
   "execution_count": 144,
   "metadata": {},
   "outputs": [
    {
     "data": {
      "text/plain": [
       "([0.4236, 0.6496, 0.7521], [0.12502, 0.12502, 0.12502, 0.10184, 0.10184, 0.10184, 0.06481, 0.06481, 0.06481, 0.12502])"
      ]
     },
     "execution_count": 144,
     "metadata": {},
     "output_type": "execute_result"
    }
   ],
   "source": [
    "alpha,w=func_adaboost(w_1,x,y,threshes)\n",
    "alpha,w"
   ]
  },
  {
   "cell_type": "code",
   "execution_count": null,
   "metadata": {},
   "outputs": [],
   "source": []
  },
  {
   "cell_type": "code",
   "execution_count": null,
   "metadata": {},
   "outputs": [],
   "source": []
  },
  {
   "cell_type": "code",
   "execution_count": null,
   "metadata": {},
   "outputs": [],
   "source": []
  },
  {
   "cell_type": "code",
   "execution_count": null,
   "metadata": {},
   "outputs": [],
   "source": []
  },
  {
   "cell_type": "code",
   "execution_count": null,
   "metadata": {},
   "outputs": [],
   "source": []
  },
  {
   "cell_type": "code",
   "execution_count": null,
   "metadata": {},
   "outputs": [],
   "source": []
  },
  {
   "cell_type": "code",
   "execution_count": null,
   "metadata": {},
   "outputs": [],
   "source": []
  },
  {
   "cell_type": "code",
   "execution_count": null,
   "metadata": {},
   "outputs": [],
   "source": []
  },
  {
   "cell_type": "code",
   "execution_count": null,
   "metadata": {},
   "outputs": [],
   "source": []
  },
  {
   "cell_type": "code",
   "execution_count": null,
   "metadata": {},
   "outputs": [],
   "source": []
  },
  {
   "cell_type": "code",
   "execution_count": null,
   "metadata": {},
   "outputs": [],
   "source": []
  },
  {
   "cell_type": "code",
   "execution_count": null,
   "metadata": {},
   "outputs": [],
   "source": []
  }
 ],
 "metadata": {
  "kernelspec": {
   "display_name": "Python 3.7 (XPython)",
   "language": "python",
   "name": "xpython"
  },
  "language_info": {
   "file_extension": ".py",
   "mimetype": "text/x-python",
   "name": "python",
   "version": "3.7.9"
  }
 },
 "nbformat": 4,
 "nbformat_minor": 4
}
